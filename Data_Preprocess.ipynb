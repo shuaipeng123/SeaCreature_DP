{
 "cells": [
  {
   "cell_type": "code",
   "execution_count": 24,
   "metadata": {
    "collapsed": true
   },
   "outputs": [],
   "source": [
    "## image_augment takes image path, the prefix for the result \n",
    "##and the destination path for the images\n",
    "def image_augment(path,prefix,destination):\n",
    "    from keras.preprocessing.image import ImageDataGenerator, array_to_img, img_to_array, load_img\n",
    "\n",
    "    datagen = ImageDataGenerator(\n",
    "            rotation_range=40,\n",
    "            width_shift_range=0.2,\n",
    "            height_shift_range=0.2,\n",
    "            shear_range=0.2,\n",
    "            zoom_range=0.2,\n",
    "            horizontal_flip=True,\n",
    "            fill_mode='nearest')\n",
    "\n",
    "    img = load_img(path)  # this is a PIL image\n",
    "    x = img_to_array(img)  # this is a Numpy array with shape (3, 150, 150)\n",
    "    x = x.reshape((1,) + x.shape)  # this is a Numpy array with shape (1, 3, 150, 150)\n",
    "\n",
    "    # the .flow() command below generates batches of randomly transformed images\n",
    "    # and saves the results to the `preview/` directory\n",
    "    i = 0\n",
    "    for batch in datagen.flow(x, batch_size=1,\n",
    "                              save_to_dir=destination, save_prefix=prefix, save_format='png'):\n",
    "        i += 1\n",
    "        if i > 20:\n",
    "            break  # otherwise the generator would loop indefinitely"
   ]
  },
  {
   "cell_type": "code",
   "execution_count": 26,
   "metadata": {
    "scrolled": true
   },
   "outputs": [
    {
     "name": "stdout",
     "output_type": "stream",
     "text": [
      ".DS_Store\n",
      "amoeba\n",
      "40\n",
      "Cerataulina_flagellate\n",
      "5\n",
      "../2015/Cerataulina_flagellate/Cerataulina_flagellate.0.png\n",
      ".DS_Store\n",
      "amoeba\n",
      "40\n",
      "Cerataulina_flagellate\n",
      "26\n"
     ]
    }
   ],
   "source": [
    "##create a 2015 small exampe to test the rename function and image augment\n",
    "## for the class has more than 6 images do the rename \n",
    "## for the class less than 6 do the augment\n",
    "import os\n",
    "dir = '../2015/'\n",
    "## fetch the 2014 sub directory name == creature name\n",
    "## first for loop do the augment\n",
    "for filename in os.listdir(dir):\n",
    "    print(filename)\n",
    "    ## make sure they are directories to go in\n",
    "    if not \".\" in filename:\n",
    "        subdir=os.path.join(dir,filename)\n",
    "        fnames = listdir(subdir)\n",
    "        print(len(fnames))\n",
    "        ## loop through png to do the augmentation \n",
    "        if len(fnames) < 6 and len(fnames) > 0:\n",
    "            image_path=\"\"\n",
    "            for fname in fnames:\n",
    "                if fname.endswith('.png'):\n",
    "                    image_path=subdir+\"/\"+fname\n",
    "                    break\n",
    "            print(image_path)\n",
    "            image_augment(image_path,filename,subdir)\n",
    "## second for loop do the rename\n",
    "for filename in os.listdir(dir):\n",
    "    print(filename)\n",
    "    ## make sure they are directories to go in\n",
    "    if not \".\" in filename:\n",
    "        subdir=os.path.join(dir,filename)\n",
    "        fnames = listdir(subdir)\n",
    "        print(len(fnames))\n",
    "        ## loop through png to do the augmentation and rename\n",
    "        if len(fnames) > 6:\n",
    "            index=0\n",
    "            for fname in fnames:\n",
    "                new_file_name=filename+\".\"+str(index)+\".png\"\n",
    "                if fname.endswith('.png'):\n",
    "                    os.rename( os.path.join(subdir,fname), os.path.join(subdir,new_file_name))\n",
    "                    index=index+1"
   ]
  },
  {
   "cell_type": "code",
   "execution_count": null,
   "metadata": {
    "collapsed": true
   },
   "outputs": [],
   "source": [
    "##example from stackoverflow by changing the extension of the files\n",
    "import os\n",
    "def dTask():\n",
    "    #Get a file name list\n",
    "    dir = '../2014/Akashiwo/'\n",
    "    file_list = os.listdir(dir)\n",
    "    #Change the extensions\n",
    "    for file_name in file_list:\n",
    "        entry_pos = 0;\n",
    "        #Filter the file name first for '.'\n",
    "        for position in range(0, len(file_name)):\n",
    "            if file_name[position] == '.':\n",
    "                break\n",
    "        new_file_name = file_name[0:position]\n",
    "        #Filtering done !\n",
    "        #Using the name filtered, add extension to that name\n",
    "        new_file_name = new_file_name + '.rar'\n",
    "        #rename the entry in the file list, using new file name\n",
    "        print 'Expected change from: ', file_list[entry_pos]\n",
    "        print 'into File name: ', new_file_name\n",
    "        os.rename( os.path.join(dir, file_list[entry_pos]), os.path.join(dir,new_file_name))\n",
    "        ++entry_pos\n",
    "dTask()"
   ]
  },
  {
   "cell_type": "code",
   "execution_count": null,
   "metadata": {
    "collapsed": true
   },
   "outputs": [],
   "source": []
  }
 ],
 "metadata": {
  "kernelspec": {
   "display_name": "Python 3",
   "language": "python",
   "name": "python3"
  },
  "language_info": {
   "codemirror_mode": {
    "name": "ipython",
    "version": 3
   },
   "file_extension": ".py",
   "mimetype": "text/x-python",
   "name": "python",
   "nbconvert_exporter": "python",
   "pygments_lexer": "ipython3",
   "version": "3.6.7"
  }
 },
 "nbformat": 4,
 "nbformat_minor": 2
}
